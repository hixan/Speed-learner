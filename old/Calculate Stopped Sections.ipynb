{
 "cells": [
  {
   "cell_type": "code",
   "execution_count": null,
   "metadata": {
    "autoscroll": false,
    "collapsed": false,
    "ein.hycell": false,
    "ein.tags": "worksheet-0",
    "slideshow": {
     "slide_type": "-"
    }
   },
   "outputs": [],
   "source": [
    "import os\n",
    "from pathlib import Path\n",
    "from read_data import NmeaFile\n",
    "import pandas as pd\n",
    "import numpy as np\n",
    "from datetime import datetime\n",
    "from matplotlib import pyplot as plt\n",
    "from pynmea2.nmea import ParseError"
   ]
  },
  {
   "cell_type": "code",
   "execution_count": null,
   "metadata": {
    "autoscroll": false,
    "collapsed": false,
    "ein.hycell": false,
    "ein.tags": "worksheet-0",
    "slideshow": {
     "slide_type": "-"
    }
   },
   "outputs": [],
   "source": [
    "clean_datadir = Path('./example_data')\n",
    "datadir = Path('/media/alex/alex_backup/Van_6-10-18')\n",
    "processed = []\n",
    "dataframes = []\n",
    "for file in datadir.iterdir():\n",
    "\n",
    "    if len(dataframes) > 5000:\n",
    "        break\n",
    "\n",
    "    if file.suffix != '.NMEA':\n",
    "        continue\n",
    "\n",
    "    if not Path(datadir / (file.stem + '.MP4')).exists():\n",
    "        print(datadir / (file.stem + '.MP4'), 'missing.')\n",
    "        continue\n",
    "\n",
    "    try:\n",
    "        dataframes.append(NmeaFile.DataFrame(file))\n",
    "    except ParseError:\n",
    "        print(file)\n",
    "\n",
    "data = pd.concat(dataframes)\n",
    "data.head()"
   ]
  },
  {
   "cell_type": "code",
   "execution_count": null,
   "metadata": {
    "autoscroll": false,
    "collapsed": false,
    "ein.hycell": false,
    "ein.tags": "worksheet-0",
    "slideshow": {
     "slide_type": "-"
    }
   },
   "outputs": [],
   "source": [
    "data.describe()"
   ]
  },
  {
   "cell_type": "code",
   "execution_count": null,
   "metadata": {
    "autoscroll": false,
    "collapsed": false,
    "ein.hycell": false,
    "ein.tags": "worksheet-0",
    "slideshow": {
     "slide_type": "-"
    }
   },
   "outputs": [],
   "source": [
    "data.plot.scatter('longitude','latitude', c='speed')\n",
    "plt.show()"
   ]
  },
  {
   "cell_type": "code",
   "execution_count": null,
   "metadata": {
    "autoscroll": false,
    "collapsed": false,
    "ein.hycell": false,
    "ein.tags": "worksheet-0",
    "slideshow": {
     "slide_type": "-"
    }
   },
   "outputs": [],
   "source": [
    "data.sort_values('time', inplace=True)"
   ]
  },
  {
   "cell_type": "code",
   "execution_count": null,
   "metadata": {
    "autoscroll": false,
    "collapsed": false,
    "ein.hycell": false,
    "ein.tags": "worksheet-0",
    "slideshow": {
     "slide_type": "-"
    }
   },
   "outputs": [],
   "source": [
    "stopped_data = data[data['speed'] == 0]\n",
    "\n",
    "# data to create new dataframe from\n",
    "section_cols = 'time latitude longitude start_vid end_vid duration video_files directory'.split()\n",
    "section_vals = {v:[] for v in section_cols}\n",
    "\n",
    "# initialize stop seperation variables\n",
    "prev_row = stopped_data.iloc[0]\n",
    "start_row = stopped_data.iloc[0]\n",
    "\n",
    "# ordered list of videofiles during which the stop occurs. Important if a stop traverses\n",
    "# one or more breaks between files.\n",
    "curr_videofiles = [stopped_data.iloc[0]['video_file']]  \n",
    "curr_duration = pd.Timedelta(0)\n",
    "\n",
    "# seperate stops\n",
    "for idx, row in stopped_data.iterrows():\n",
    "    tdiff = row['time'] - prev_row['time']\n",
    "    if tdiff.total_seconds() > 2:  # detect a break in continuity,\n",
    "        # could detect by change in latitude/longitude as well.\n",
    "        \n",
    "     # add the calculated data\n",
    "        section_vals['time'].append(start_row['time'])\n",
    "        section_vals['latitude'].append(start_row['latitude'])\n",
    "        section_vals['longitude'].append(start_row['longitude'])\n",
    "        section_vals['start_vid'].append(start_row['video_time'])\n",
    "        section_vals['end_vid'].append(prev_row['video_time'])\n",
    "        section_vals['video_files'].append(tuple(curr_videofiles))\n",
    "        section_vals['directory'].append(row['directory'])\n",
    "        section_vals['duration'].append(curr_duration)\n",
    "        \n",
    "        # start next data row\n",
    "        curr_duration = pd.Timedelta(0)\n",
    "        start_row = row\n",
    "        prev_row = row\n",
    "        curr_videofiles = [row['video_file']]\n",
    "        continue\n",
    "        \n",
    "    prev_row = row\n",
    "    curr_duration += tdiff\n",
    "    if row['video_file'] not in curr_videofiles:\n",
    "        curr_videofiles.append(row['video_file'])\n",
    "stopped_sections = pd.DataFrame(section_vals)\n",
    "stopped_sections.head()"
   ]
  },
  {
   "cell_type": "code",
   "execution_count": null,
   "metadata": {
    "autoscroll": false,
    "collapsed": false,
    "ein.hycell": false,
    "ein.tags": "worksheet-0",
    "slideshow": {
     "slide_type": "-"
    }
   },
   "outputs": [],
   "source": [
    "stopped_sections.describe()"
   ]
  },
  {
   "cell_type": "code",
   "execution_count": null,
   "metadata": {
    "autoscroll": false,
    "collapsed": false,
    "ein.hycell": false,
    "ein.tags": "worksheet-0",
    "slideshow": {
     "slide_type": "-"
    }
   },
   "outputs": [],
   "source": [
    "stopped_sections['duration_secs'] = [s.total_seconds() for s in stopped_sections['duration']]\n",
    "min_time = 5\n",
    "print('there are',\n",
    "      sum(stopped_sections[stopped_sections['duration_secs'] > min_time]['duration_secs']) * 3 / 60 / 60,\n",
    "      f'hours of stopped footage longer then {min_time} seconds.')"
   ]
  },
  {
   "cell_type": "code",
   "execution_count": null,
   "metadata": {
    "autoscroll": false,
    "collapsed": false,
    "ein.hycell": false,
    "ein.tags": "worksheet-0",
    "slideshow": {
     "slide_type": "-"
    }
   },
   "outputs": [],
   "source": [
    "stopped_long_sections = stopped_sections[stopped_sections['duration_secs'] > min_time].sort_values('duration')\n",
    "stopped_long_sections.describe()"
   ]
  },
  {
   "cell_type": "code",
   "execution_count": null,
   "metadata": {
    "autoscroll": false,
    "collapsed": false,
    "ein.hycell": false,
    "ein.tags": "worksheet-0",
    "slideshow": {
     "slide_type": "-"
    }
   },
   "outputs": [],
   "source": [
    "stopped_long_sections.hist()\n",
    "plt.show()"
   ]
  },
  {
   "cell_type": "code",
   "execution_count": null,
   "metadata": {
    "autoscroll": false,
    "collapsed": false,
    "ein.hycell": false,
    "ein.tags": "worksheet-0",
    "slideshow": {
     "slide_type": "-"
    }
   },
   "outputs": [],
   "source": [
    "stopped_sections.to_csv(clean_datadir / 'stopped_sections.csv')"
   ]
  }
 ],
 "metadata": {
  "kernelspec": {
   "argv": [
    "python",
    "-m",
    "ipykernel_launcher",
    "-f",
    "{connection_file}"
   ],
   "display_name": "Python 3",
   "env": null,
   "interrupt_mode": "signal",
   "language": "python",
   "metadata": null,
   "name": "python3"
  },
  "language_info": {
   "codemirror_mode": {
    "name": "ipython",
    "version": 3
   },
   "file_extension": ".py",
   "mimetype": "text/x-python",
   "name": "python",
   "nbconvert_exporter": "python",
   "pygments_lexer": "ipython3",
   "version": "3.7.3"
  },
  "name": "Calculate Stopped Sections.ipynb"
 },
 "nbformat": 4,
 "nbformat_minor": 2
}
