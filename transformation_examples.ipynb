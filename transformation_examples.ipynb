{
 "cells": [
  {
   "cell_type": "code",
   "execution_count": 1,
   "metadata": {},
   "outputs": [
    {
     "name": "stderr",
     "output_type": "stream",
     "text": [
      "/home/alex/.anaconda3/lib/python3.7/site-packages/dask/config.py:168: YAMLLoadWarning: calling yaml.load() without Loader=... is deprecated, as the default Loader is unsafe. Please read https://msg.pyyaml.org/load for full details.\n",
      "  data = yaml.load(f.read()) or {}\n"
     ]
    }
   ],
   "source": [
    "from read_data import VideoReader\n",
    "import numpy as np\n",
    "import cv2\n",
    "import random\n",
    "import skimage\n",
    "from matplotlib import pyplot as plt\n",
    "from transformations import (settings, resize,\n",
    "                             running_average, edge_detect,\n",
    "                             write_video, limit, skip,\n",
    "                             transform_name, mask, maps)\n",
    "%matplotlib inline"
   ]
  },
  {
   "cell_type": "code",
   "execution_count": 2,
   "metadata": {},
   "outputs": [],
   "source": [
    "# read index file\n",
    "mp4s = []\n",
    "with open('files.txt', 'r') as read:\n",
    "    for rpath in read.readlines():\n",
    "        path = rpath.strip()\n",
    "        if path[-3:].upper() == 'MP4':\n",
    "            mp4s.append(path)\n",
    "   "
   ]
  },
  {
   "cell_type": "code",
   "execution_count": 5,
   "metadata": {},
   "outputs": [
    {
     "data": {
      "text/plain": [
       "'tests/170523-173112000000_skip--n=3_downsize--scale=0.05_blur_edge_detect--t1=20--t2=150_running_average--window_size=3_limit--n=300.avi'"
      ]
     },
     "execution_count": 5,
     "metadata": {},
     "output_type": "execute_result"
    }
   ],
   "source": [
    "settings.verbose = False\n",
    "settings.ret_names = True\n",
    "\n",
    "@maps\n",
    "def blur(frame, identifier):\n",
    "    return cv2.medianBlur(cv2.GaussianBlur(frame, (3,3),0), 5), identifier\n",
    "\n",
    "gen = VideoReader(mp4s[0])\n",
    "fps = gen.fps \n",
    "g = gen\n",
    "g = skip(g, n=3)\n",
    "g = resize(g, scale=.05)\n",
    "g = blur(g)\n",
    "g = edge_detect(g, 20, 150)\n",
    "g = running_average(g, window_size=3, skip_incomplete=True)\n",
    "g = limit(g, 300)\n",
    "write_video(g, fps=fps, dirs=('tests',))\n"
   ]
  },
  {
   "cell_type": "code",
   "execution_count": null,
   "metadata": {},
   "outputs": [],
   "source": []
  }
 ],
 "metadata": {
  "kernelspec": {
   "display_name": "Python 3",
   "language": "python",
   "name": "python3"
  },
  "language_info": {
   "codemirror_mode": {
    "name": "ipython",
    "version": 3
   },
   "file_extension": ".py",
   "mimetype": "text/x-python",
   "name": "python",
   "nbconvert_exporter": "python",
   "pygments_lexer": "ipython3",
   "version": "3.7.3"
  }
 },
 "nbformat": 4,
 "nbformat_minor": 2
}
