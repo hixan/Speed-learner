{
 "cells": [
  {
   "cell_type": "markdown",
   "metadata": {},
   "source": [
    "# Read stopped sections metadata and generate videoclips from it."
   ]
  },
  {
   "cell_type": "code",
   "execution_count": null,
   "metadata": {},
   "outputs": [],
   "source": [
    "from moviepy.editor import VideoFileClip, concatenate_videoclips\n",
    "import numpy as np\n",
    "import pandas as pd\n",
    "from pathlib import Path\n",
    "from datetime import datetime"
   ]
  },
  {
   "cell_type": "code",
   "execution_count": null,
   "metadata": {},
   "outputs": [],
   "source": [
    "clean_datadir = Path('./example_data')\n",
    "datadir = Path('/media/alex/alex_backup/Van_6-10-18')"
   ]
  },
  {
   "cell_type": "code",
   "execution_count": null,
   "metadata": {},
   "outputs": [],
   "source": []
  },
  {
   "cell_type": "code",
   "execution_count": null,
   "metadata": {},
   "outputs": [],
   "source": [
    "df = pd.read_csv(clean_datadir / 'stopped_sections.csv', index_col=0)\n",
    "df['video_files'] = df['video_files'].apply(lambda x:tuple(map(Path, eval(x))))\n",
    "df['directory'] = df['directory'].apply(Path)\n",
    "df['time'] = df['time'].apply(lambda x: datetime.strptime(x, '%Y-%m-%d %H:%M:%S.%f'))\n",
    "for s in 'start_vid end_vid duration'.split():\n",
    "    df[s] = df[s].apply(pd.Timedelta)\n",
    "print(*map(type, df.loc[0]), sep='\\n')\n",
    "df.head()"
   ]
  },
  {
   "cell_type": "markdown",
   "metadata": {},
   "source": [
    "function that takes a row of the dataframe and generates an edited portion of the time of the observation, stitching together multiple files where necessary and cutting out sections that are not included in the observation."
   ]
  },
  {
   "cell_type": "code",
   "execution_count": null,
   "metadata": {},
   "outputs": [],
   "source": [
    "def gen_splitfile(row: pd.core.series.Series, output_dir: Path, in_format: str, out_format: str):\n",
    "    '''generates data from a row of metadata.\n",
    "    row: pandas series object containing metadata for this observation. Must have columns:\n",
    "        time, video_files, start_vid, end_vid, directory, duration\n",
    "    output_dir: Path of desired directory to store resulting videos.\n",
    "    in_format: datetime string format of input files (the video_files column)\n",
    "    out_format: datetime string of desired output files (will format with the beginning timestamp of the video)\n",
    "    '''\n",
    "    start_time, vidfiles, start, end, directory, duration = row['time video_files start_vid end_vid directory duration'.split()]\n",
    "    clips = tuple(map(lambda x:VideoFileClip(str(directory / x)), vidfiles))\n",
    "    output_filename = str(output_dir /\n",
    "                          (start_time + start).strftime(out_format))\n",
    "    print(f'calculating {output_filename}, duration: {duration}')\n",
    "    \n",
    "    # special case of start time and end time occuring in the same videoclip\n",
    "    if len(clips) == 1:\n",
    "        clip, = clips\n",
    "        vidfile, = vidfiles\n",
    "        clip = clip.subclip(start.total_seconds(), end.total_seconds())\n",
    "        filetime = datetime.strptime(vidfile.name, in_format)\n",
    "        clip.write_videofile(output_filename, verbose=False, logger=None)\n",
    "        \n",
    "    # start time starts in a different videoclip to end time\n",
    "    \n",
    "    clips_ret = []\n",
    "    # add start clip from where the time starts\n",
    "    clips_ret.append(clips[0].subclip(start.total_seconds(), clips[0].duration))\n",
    "    # add all clips between the first and last clip\n",
    "    clips_ret.extend(clips[1:-2])\n",
    "    # add last clip up until the end time\n",
    "    clips_ret.append(clips[-1].subclip(0, end.total_seconds()))\n",
    "    concatenate_videoclips(clips_ret).write_videofile(output_filename, verbose=False, logger=None)\n",
    "    \n",
    "#gen_splitfile(df[df['video_files'].apply(len) > 1].iloc[0], clean_datadir, 'FILE%y%m%d-%H%M%S.MP4', 'FILEsp%y%m%d-%H%M%S.MP4')"
   ]
  },
  {
   "cell_type": "markdown",
   "metadata": {},
   "source": [
    "apply this to the longest 5 observations in the dataset"
   ]
  },
  {
   "cell_type": "code",
   "execution_count": null,
   "metadata": {},
   "outputs": [],
   "source": [
    "for i, row in enumerate(df.sort_values(by='duration', ascending=False).iterrows()):\n",
    "    if i > 5:\n",
    "        print('done.')\n",
    "        break\n",
    "    gen_splitfile(row[1], clean_datadir, 'FILE%y%m%d-%H%M%S.MP4', 'FILEsp%y%m%d-%H%M%S.MP4')"
   ]
  },
  {
   "cell_type": "code",
   "execution_count": null,
   "metadata": {},
   "outputs": [],
   "source": []
  }
 ],
 "metadata": {
  "kernelspec": {
   "display_name": "Python 3",
   "language": "python",
   "name": "python3"
  },
  "language_info": {
   "codemirror_mode": {
    "name": "ipython",
    "version": 3
   },
   "file_extension": ".py",
   "mimetype": "text/x-python",
   "name": "python",
   "nbconvert_exporter": "python",
   "pygments_lexer": "ipython3",
   "version": "3.7.3"
  }
 },
 "nbformat": 4,
 "nbformat_minor": 2
}
